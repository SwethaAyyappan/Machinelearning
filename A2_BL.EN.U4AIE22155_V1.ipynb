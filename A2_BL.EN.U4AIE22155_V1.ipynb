{
 "cells": [
  {
   "cell_type": "code",
   "execution_count": null,
   "id": "7fd0c951-0bef-4d21-8680-e166e2246414",
   "metadata": {},
   "outputs": [],
   "source": [
    "#Q1. Write a function to calculate the Euclidean distance and Manhattan distance between two vectors"
   ]
  },
  {
   "cell_type": "code",
   "execution_count": 3,
   "id": "18625930-ced5-4a21-b97d-7210c5fb5be4",
   "metadata": {},
   "outputs": [
    {
     "name": "stdin",
     "output_type": "stream",
     "text": [
      "Enter values of vector (seperated by spaces) 1 2 3 4\n"
     ]
    },
    {
     "name": "stdout",
     "output_type": "stream",
     "text": [
      "Enter values of vector 2: \n"
     ]
    },
    {
     "name": "stdin",
     "output_type": "stream",
     "text": [
      "Enter values of vector (seperated by spaces) 5 6 7 8\n"
     ]
    },
    {
     "name": "stdout",
     "output_type": "stream",
     "text": [
      "Euclidean distance is :  8.0\n",
      "Manhattan distance is :  16.0\n"
     ]
    }
   ],
   "source": [
    "def euclidean_distance(vector_1,vector_2):\n",
    "  if len(vector_1)!=len(vector_2):\n",
    "    return \"Distance cannot be calculated as vectors are of unequal dimensions.\"\n",
    "\n",
    "  euclidean_distance = 0\n",
    "  for i in range(len(vector_1)):\n",
    "    euclidean_distance += (vector_1[i]-vector_2[i])**2\n",
    "  return euclidean_distance ** 0.5\n",
    "\n",
    "def manhattan_distance(vector_1,vector_2):\n",
    "\n",
    "  if len(vector_1)!=len(vector_2):\n",
    "    return \"Distance cannot be calculated as vectors are of unequal dimensions.\"\n",
    "\n",
    "  manhattan_distance = 0\n",
    "  for i in range(len(vector_1)):\n",
    "    manhattan_distance += abs(vector_1[i]-vector_2[i])\n",
    "  return manhattan_distance\n",
    "\n",
    "def user_input():\n",
    "  vector = input('Enter values of vector (seperated by spaces)')\n",
    "  vector = [float(num) for num in vector.split()]\n",
    "  return vector\n",
    "\n",
    "def main():\n",
    "\n",
    "  vector_1 = user_input()\n",
    "\n",
    "  print('Enter values of vector 2: ')\n",
    "\n",
    "  vector_2 = user_input()\n",
    "\n",
    "  result1 = euclidean_distance(vector_1,vector_2)\n",
    "  result2 = manhattan_distance(vector_1,vector_2)\n",
    "\n",
    "  print(\"Euclidean distance is : \",result1)\n",
    "  print(\"Manhattan distance is : \",result2)\n",
    "\n",
    "if __name__ == '__main__':\n",
    "  main()"
   ]
  },
  {
   "cell_type": "code",
   "execution_count": null,
   "id": "c03daf7b-f55a-45e1-9e51-eaa02dd9a0a0",
   "metadata": {},
   "outputs": [],
   "source": [
    "#Q2.Write a function to implement k-NN classifier. k is a variable and based on that the count of neighbors should be selected.  "
   ]
  },
  {
   "cell_type": "code",
   "execution_count": 13,
   "id": "7ae89a00-a597-471d-97cb-52d48ea01e32",
   "metadata": {},
   "outputs": [
    {
     "name": "stdout",
     "output_type": "stream",
     "text": [
      "New data point: [5.1, 3.5, 1.4, 0.2]\n",
      "Predicted label: 0.2\n"
     ]
    }
   ],
   "source": [
    "from collections import Counter\n",
    "\n",
    "def euclidean_distance(point1, point2):\n",
    "    # Calculate Euclidean distance between two points\n",
    "    return sum((p1 - p2)*2 for p1, p2 in zip(point1, point2))*0.5\n",
    "\n",
    "def k_nn_classifier(training_data, training_labels, new_point, k):\n",
    "    distances = []\n",
    "\n",
    "    # Calculate distances between new_point and all points in training_data\n",
    "    for i, point in enumerate(training_data):\n",
    "        distance = euclidean_distance(new_point, point)\n",
    "        distances.append((i, distance))\n",
    "\n",
    "    # Sort distances and get indices of k-nearest neighbors\n",
    "    sorted_distances = sorted(distances, key=lambda x: x[1])\n",
    "    k_nearest_indices = [index for index, _ in sorted_distances[:k]]\n",
    "\n",
    "    # Get labels of k-nearest neighbors\n",
    "    k_nearest_labels = [training_labels[index] for index in k_nearest_indices]\n",
    "\n",
    "    # Count occurrences of each label in the k-nearest neighbors\n",
    "    label_counts = Counter(k_nearest_labels)\n",
    "\n",
    "    # Get the most common label (majority vote)\n",
    "    predicted_label = label_counts.most_common(1)[0][0]\n",
    "\n",
    "    return predicted_label\n",
    "\n",
    "def read_dataset(filename):\n",
    "    dataset = []\n",
    "    with open(filename, 'r') as file:\n",
    "        lines = file.readlines()\n",
    "        for line in lines[1:]:\n",
    "            row = line.strip().split(',')\n",
    "            dataset.append([float(value) for value in row[:-1]])  # Convert values to float\n",
    "    return dataset\n",
    "\n",
    "def main():\n",
    "    filename = \"C:\\\\Users\\\\Surya Krishna\\\\OneDrive\\\\Desktop\\\\Surya\\\\BTech\\\\Datasets\\\\Iris.csv\"\n",
    "    iris_dataset = read_dataset(filename)\n",
    "\n",
    "    # Separate features and labels\n",
    "    features = [row[:-1] for row in iris_dataset]\n",
    "    labels = [row[-1] for row in iris_dataset]\n",
    "\n",
    "    # Choose an example new data point\n",
    "    new_point = [5.1, 3.5, 1.4, 0.2]\n",
    "\n",
    "    # Choose the value of k\n",
    "    k_value = 3\n",
    "\n",
    "    # Perform k-NN classification\n",
    "    predicted_label = k_nn_classifier(features, labels, new_point, k_value)\n",
    "\n",
    "    print(\"New data point:\", new_point)\n",
    "    print(\"Predicted label:\", predicted_label)\n",
    "\n",
    "if _name_ == \"_main_\":\n",
    "    main()"
   ]
  },
  {
   "cell_type": "code",
   "execution_count": null,
   "id": "a4f10d4c-6890-4e32-a35d-306b9ddd65bb",
   "metadata": {},
   "outputs": [],
   "source": [
    "#Q3. Write a function to convert categorical variables to numeric using label encoding."
   ]
  },
  {
   "cell_type": "code",
   "execution_count": 10,
   "id": "7a662264-4475-4cd0-a487-992b5d5fcd92",
   "metadata": {},
   "outputs": [
    {
     "name": "stdout",
     "output_type": "stream",
     "text": [
      "Original species data: ['Iris-setosa', 'Iris-setosa', 'Iris-setosa', 'Iris-setosa', 'Iris-setosa', 'Iris-setosa', 'Iris-setosa', 'Iris-setosa', 'Iris-setosa', 'Iris-setosa', 'Iris-setosa', 'Iris-setosa', 'Iris-setosa', 'Iris-setosa', 'Iris-setosa', 'Iris-setosa', 'Iris-setosa', 'Iris-setosa', 'Iris-setosa', 'Iris-setosa', 'Iris-setosa', 'Iris-setosa', 'Iris-setosa', 'Iris-setosa', 'Iris-setosa', 'Iris-setosa', 'Iris-setosa', 'Iris-setosa', 'Iris-setosa', 'Iris-setosa', 'Iris-setosa', 'Iris-setosa', 'Iris-setosa', 'Iris-setosa', 'Iris-setosa', 'Iris-setosa', 'Iris-setosa', 'Iris-setosa', 'Iris-setosa', 'Iris-setosa', 'Iris-setosa', 'Iris-setosa', 'Iris-setosa', 'Iris-setosa', 'Iris-setosa', 'Iris-setosa', 'Iris-setosa', 'Iris-setosa', 'Iris-setosa', 'Iris-setosa', 'Iris-versicolor', 'Iris-versicolor', 'Iris-versicolor', 'Iris-versicolor', 'Iris-versicolor', 'Iris-versicolor', 'Iris-versicolor', 'Iris-versicolor', 'Iris-versicolor', 'Iris-versicolor', 'Iris-versicolor', 'Iris-versicolor', 'Iris-versicolor', 'Iris-versicolor', 'Iris-versicolor', 'Iris-versicolor', 'Iris-versicolor', 'Iris-versicolor', 'Iris-versicolor', 'Iris-versicolor', 'Iris-versicolor', 'Iris-versicolor', 'Iris-versicolor', 'Iris-versicolor', 'Iris-versicolor', 'Iris-versicolor', 'Iris-versicolor', 'Iris-versicolor', 'Iris-versicolor', 'Iris-versicolor', 'Iris-versicolor', 'Iris-versicolor', 'Iris-versicolor', 'Iris-versicolor', 'Iris-versicolor', 'Iris-versicolor', 'Iris-versicolor', 'Iris-versicolor', 'Iris-versicolor', 'Iris-versicolor', 'Iris-versicolor', 'Iris-versicolor', 'Iris-versicolor', 'Iris-versicolor', 'Iris-versicolor', 'Iris-versicolor', 'Iris-versicolor', 'Iris-versicolor', 'Iris-versicolor', 'Iris-versicolor', 'Iris-virginica', 'Iris-virginica', 'Iris-virginica', 'Iris-virginica', 'Iris-virginica', 'Iris-virginica', 'Iris-virginica', 'Iris-virginica', 'Iris-virginica', 'Iris-virginica', 'Iris-virginica', 'Iris-virginica', 'Iris-virginica', 'Iris-virginica', 'Iris-virginica', 'Iris-virginica', 'Iris-virginica', 'Iris-virginica', 'Iris-virginica', 'Iris-virginica', 'Iris-virginica', 'Iris-virginica', 'Iris-virginica', 'Iris-virginica', 'Iris-virginica', 'Iris-virginica', 'Iris-virginica', 'Iris-virginica', 'Iris-virginica', 'Iris-virginica', 'Iris-virginica', 'Iris-virginica', 'Iris-virginica', 'Iris-virginica', 'Iris-virginica', 'Iris-virginica', 'Iris-virginica', 'Iris-virginica', 'Iris-virginica', 'Iris-virginica', 'Iris-virginica', 'Iris-virginica', 'Iris-virginica', 'Iris-virginica', 'Iris-virginica', 'Iris-virginica', 'Iris-virginica', 'Iris-virginica', 'Iris-virginica', 'Iris-virginica']\n",
      "Encoded species data: [497, 497, 497, 497, 497, 497, 497, 497, 497, 497, 497, 497, 497, 497, 497, 497, 497, 497, 497, 497, 497, 497, 497, 497, 497, 497, 497, 497, 497, 497, 497, 497, 497, 497, 497, 497, 497, 497, 497, 497, 497, 497, 497, 497, 497, 497, 497, 497, 497, 497, 266, 266, 266, 266, 266, 266, 266, 266, 266, 266, 266, 266, 266, 266, 266, 266, 266, 266, 266, 266, 266, 266, 266, 266, 266, 266, 266, 266, 266, 266, 266, 266, 266, 266, 266, 266, 266, 266, 266, 266, 266, 266, 266, 266, 266, 266, 266, 266, 266, 266, 637, 637, 637, 637, 637, 637, 637, 637, 637, 637, 637, 637, 637, 637, 637, 637, 637, 637, 637, 637, 637, 637, 637, 637, 637, 637, 637, 637, 637, 637, 637, 637, 637, 637, 637, 637, 637, 637, 637, 637, 637, 637, 637, 637, 637, 637, 637, 637, 637, 637]\n"
     ]
    }
   ],
   "source": [
    "import random\n",
    "\n",
    "def label_encoding(inputdata):\n",
    "    encoding_map_dictionary = {}\n",
    "    encoded_data = []\n",
    "\n",
    "    random.seed(50) \n",
    "\n",
    "    for object in inputdata:\n",
    "        if object not in encoding_map_dictionary:\n",
    "            encoding_map_dictionary[object] = int(random.random() * 1000)  # Map random float to integer\n",
    "        encoded_data.append(encoding_map_dictionary[object])\n",
    "    \n",
    "    return encoded_data\n",
    "def read_dataset(filename):\n",
    "  dataset = []\n",
    "  with open(filename,'r') as file:\n",
    "    lines = file.readlines()\n",
    "    for line in lines[1:]:\n",
    "      row = line.strip().split(',')\n",
    "      dataset.append(row)\n",
    "  return dataset\n",
    "\n",
    "\n",
    " \n",
    "\n",
    "\n",
    "def main():\n",
    "  filename = \"/home/swetha/Iris.csv\"\n",
    "  iris_dataset = read_dataset(filename)\n",
    "\n",
    "\n",
    "\n",
    "  species_column = [row[5] for row in iris_dataset]\n",
    "\n",
    "  encoded_species = label_encoding(species_column)\n",
    "\n",
    "  print(\"Original species data:\", species_column)\n",
    "  print(\"Encoded species data:\", encoded_species)\n",
    "\n",
    "\n",
    "if __name__ == \"__main__\":\n",
    "  main()\n"
   ]
  },
  {
   "cell_type": "code",
   "execution_count": null,
   "id": "3924a78d-c945-4b07-9366-53b6929955df",
   "metadata": {},
   "outputs": [],
   "source": [
    "#Q4. Write a function to convert categorical variables to numeric using One-Hotencoding."
   ]
  },
  {
   "cell_type": "code",
   "execution_count": 1,
   "id": "84f6d32d-d608-4ee9-9122-f644f8c4779a",
   "metadata": {},
   "outputs": [
    {
     "name": "stdout",
     "output_type": "stream",
     "text": [
      "Encoded DataFrame:\n",
      "   Species_Iris-setosa  Species_Iris-versicolor  Species_Iris-virginica\n",
      "0                    1                        0                       0\n",
      "1                    1                        0                       0\n",
      "2                    1                        0                       0\n",
      "3                    1                        0                       0\n",
      "4                    1                        0                       0\n",
      "\n",
      "Category Mapping:\n",
      "{'Iris-setosa': 0, 'Iris-versicolor': 1, 'Iris-virginica': 2}\n"
     ]
    },
    {
     "name": "stderr",
     "output_type": "stream",
     "text": [
      "/tmp/ipykernel_3357/1403119452.py:1: DeprecationWarning: \n",
      "Pyarrow will become a required dependency of pandas in the next major release of pandas (pandas 3.0),\n",
      "(to allow more performant data types, such as the Arrow string type, and better interoperability with other libraries)\n",
      "but was not found to be installed on your system.\n",
      "If this would cause problems for you,\n",
      "please provide us feedback at https://github.com/pandas-dev/pandas/issues/54466\n",
      "        \n",
      "  import pandas as pd\n"
     ]
    }
   ],
   "source": [
    "import pandas as pd\n",
    "\n",
    "# Load the Iris dataset into a pandas DataFrame\n",
    "file_path = \"/home/swetha/Iris.csv\"\n",
    "df = pd.read_csv(file_path)\n",
    "\n",
    "# Define the function for one-hot encoding\n",
    "def one_hot_encode(df, column_name):\n",
    "    # Create a dictionary to store mappings of categories to numeric values\n",
    "    category_mapping = {}\n",
    "    \n",
    "    # Get unique categories from the specified column\n",
    "    categories = df[column_name].unique()\n",
    "    \n",
    "    # Initialize an empty DataFrame to store one-hot encoded values\n",
    "    encoded_df = pd.DataFrame()\n",
    "    \n",
    "    # Iterate over each category\n",
    "    for category in categories:\n",
    "        # Create a new column for each category\n",
    "        encoded_df[column_name + '_' + category] = (df[column_name] == category).astype(int)\n",
    "        \n",
    "        # Store the mapping of category to numeric value\n",
    "        category_mapping[category] = len(category_mapping)\n",
    "    \n",
    "    return encoded_df, category_mapping\n",
    "\n",
    "# Call the function with the loaded DataFrame and the name of the categorical column\n",
    "encoded_df, category_mapping = one_hot_encode(df, 'Species')\n",
    "\n",
    "# Display the encoded DataFrame and category mapping\n",
    "print(\"Encoded DataFrame:\")\n",
    "print(encoded_df.head())\n",
    "\n",
    "print(\"\\nCategory Mapping:\")\n",
    "print(category_mapping)\n"
   ]
  },
  {
   "cell_type": "code",
   "execution_count": null,
   "id": "075f4e12-24b7-4abc-9e1b-6294a1f7d9fe",
   "metadata": {},
   "outputs": [],
   "source": []
  }
 ],
 "metadata": {
  "kernelspec": {
   "display_name": "Python 3 (ipykernel)",
   "language": "python",
   "name": "python3"
  },
  "language_info": {
   "codemirror_mode": {
    "name": "ipython",
    "version": 3
   },
   "file_extension": ".py",
   "mimetype": "text/x-python",
   "name": "python",
   "nbconvert_exporter": "python",
   "pygments_lexer": "ipython3",
   "version": "3.10.12"
  }
 },
 "nbformat": 4,
 "nbformat_minor": 5
}
