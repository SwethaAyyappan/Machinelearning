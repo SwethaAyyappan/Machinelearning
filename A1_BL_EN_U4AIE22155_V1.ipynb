{
  "nbformat": 4,
  "nbformat_minor": 0,
  "metadata": {
    "colab": {
      "provenance": []
    },
    "kernelspec": {
      "name": "python3",
      "display_name": "Python 3"
    },
    "language_info": {
      "name": "python"
    }
  },
  "cells": [
    {
      "cell_type": "markdown",
      "source": [
        "Q1. Consider the given list as [2,7,4,1,3,6].Write a program to count pairs of elements with sum equal to 10."
      ],
      "metadata": {
        "id": "_GL608JQ55-L"
      }
    },
    {
      "cell_type": "code",
      "execution_count": 23,
      "metadata": {
        "colab": {
          "base_uri": "https://localhost:8080/"
        },
        "id": "7a7KjI-T50MS",
        "outputId": "e0a16c6a-bec6-4287-ca3f-aeccd2d268d3"
      },
      "outputs": [
        {
          "output_type": "stream",
          "name": "stdout",
          "text": [
            "The total number of pairs of elements that add upto 10 are :  2\n"
          ]
        }
      ],
      "source": [
        "list = [2,7,4,1,3,6] #Initializing list\n",
        "\n",
        "#Function for counting the pair of elements adding upto 10\n",
        "def count_pairs():\n",
        "\n",
        "\n",
        "  varCount = 0  # Variable to count the pairs\n",
        "\n",
        "  #Iterate through list to find the suitable pairs\n",
        "  for i in range(len(list)):\n",
        "    for j in range(i+1,len(list)):\n",
        "      if list[i]+list[j] == 10:\n",
        "        varCount = varCount + 1\n",
        "  return varCount\n",
        "\n",
        "\n",
        "\n",
        "#main function to display final result\n",
        "def main():\n",
        "  result = count_pairs()\n",
        "  print(\"The total number of pairs of elements that add upto 10 are : \",result) #print final result\n",
        "\n",
        "main()\n",
        "\n",
        "\n",
        "\n",
        "\n"
      ]
    },
    {
      "cell_type": "markdown",
      "source": [
        "Q2. Write a program that takes a list of real numbers as input and returns the range(difference between minimum and maximum) of the list.Check for list being less than 3 elements in which case return an error message(Ex: “Range determination not possible”).Given a list[5,3,8,1,0,4],the range is 8(8-0)."
      ],
      "metadata": {
        "id": "eH1s7Vjg-yeH"
      }
    },
    {
      "cell_type": "code",
      "source": [
        "\n",
        "real_number_list = [] #create empty list to store real numbers\n",
        "\n",
        "def calculate_range():  #define function to calculate range of elements in list\n",
        "\n",
        "  if len(real_number_list) < 3:     #check if number of elements is less than 3\n",
        "        return \"Range determination not possible\"\n",
        "\n",
        "  max_num = max(real_number_list) #obtain maximum valued element\n",
        "  min_num = min(real_number_list) #obtain minimum valued element\n",
        "  range_of_list = max_num-min_num  #calculate range\n",
        "\n",
        "  return range_of_list\n",
        "\n",
        "def main():\n",
        "  #User input for number of elements in list\n",
        "  n = int(input(\"Enter number of elements in list: \"))\n",
        "  for i in range(n):\n",
        "    num = int(input())\n",
        "    real_number_list.append(num)\n",
        "\n",
        "if __name__ == \"__main__\":\n",
        "    main()\n",
        "    result = calculate_range()\n",
        "    print(\"Your list is \",real_number_list)\n",
        "    print(\"Range is\", result)\n",
        "\n"
      ],
      "metadata": {
        "colab": {
          "base_uri": "https://localhost:8080/"
        },
        "id": "1XTxQUbechBi",
        "outputId": "c273007e-728e-45ce-95eb-a490031e87c2"
      },
      "execution_count": 2,
      "outputs": [
        {
          "output_type": "stream",
          "name": "stdout",
          "text": [
            "Enter number of elements in list: 7\n",
            "1\n",
            "88\n",
            "23\n",
            "56\n",
            "3\n",
            "47\n",
            "21\n",
            "Your list is  [1, 88, 23, 56, 3, 47, 21]\n",
            "Range is 87\n"
          ]
        }
      ]
    },
    {
      "cell_type": "markdown",
      "source": [
        "Q3.Write a program that accepts a square matrix A and a positive integer m as arguments and returns A^m."
      ],
      "metadata": {
        "id": "aT4cugYphODr"
      }
    },
    {
      "cell_type": "code",
      "source": [
        "def power_of_matrix(A,m):\n",
        "  if m==0:\n",
        "    identity_matrix = [\n",
        "    [1 if i == j else 0 for j in range(len(A))]  # 1 on the diagonal, 0 elsewhere\n",
        "    for i in range(len(A))\n",
        "]\n",
        "\n",
        "# Returning the identity matrix\n",
        "    return identity_matrix\n",
        "\n",
        "  final_result = A\n",
        "\n",
        "  for n in range(m-1):\n",
        "    updated_result =[]\n",
        "\n",
        "    for i in range(len(A)):\n",
        "        # Initialize a new row for the updated result\n",
        "        updated_row = []\n",
        "\n",
        "        # Iterate through columns of the current result matrix\n",
        "        for j in range(len(final_result[0])):\n",
        "            # Calculate the dot product for the i-th row of A and the j-th column of the current result matrix\n",
        "            dot_product = sum(A[i][k] * final_result[k][j] for k in range(len(A[0])))\n",
        "\n",
        "            # Append the dot product to the updated row\n",
        "            updated_row.append(dot_product)\n",
        "\n",
        "        # Append the updated row to the updated result matrix\n",
        "        updated_result.append(updated_row)\n",
        "\n",
        "    # Update the result matrix with the new matrix obtained after multiplication\n",
        "    final_result = updated_result\n",
        "  return final_result\n",
        "\n",
        "\n",
        "\n",
        "\n",
        "def main():\n",
        "  dim = int(input(\"Enter the dimension of square matrix A : \")) #Obtain dimension of matrix from user\n",
        "\n",
        "\n",
        "  A =[]      #Initialize matrix A as list\n",
        "\n",
        "\n",
        "   # Input elements for each row to create matrix A\n",
        "  for i in range(dim):\n",
        "    row =[]    #Initializing row as list\n",
        "\n",
        "    for j in range(dim):\n",
        "      n = int(input())\n",
        "      row.append(n)\n",
        "    A.append(row)\n",
        "\n",
        "  print(\"Matrix A = \",A)\n",
        "\n",
        "  m = int(input(\"Enter value of m: \"))     #Obtain value of m from user to calculate A^m\n",
        "\n",
        "  print(\"A^m = \",power_of_matrix(A,m))     #call the function power_of_matrix to display final answer\n",
        "\n",
        "if __name__ == \"__main__\":\n",
        "  main()              #call main function to execute code\n",
        "\n",
        "\n"
      ],
      "metadata": {
        "id": "XW1rIWKLt1kq",
        "colab": {
          "base_uri": "https://localhost:8080/"
        },
        "outputId": "5df06b22-c59b-4d15-d206-a7c9cb3d2015"
      },
      "execution_count": 5,
      "outputs": [
        {
          "output_type": "stream",
          "name": "stdout",
          "text": [
            "Enter the dimension of square matrix A : 2\n",
            "1\n",
            "3\n",
            "9\n",
            "23\n",
            "Matrix A =  [[1, 3], [9, 23]]\n",
            "Enter value of m: 3\n",
            "A^m =  [[676, 1740], [5220, 13436]]\n"
          ]
        }
      ]
    },
    {
      "cell_type": "markdown",
      "source": [
        "Q4. Write a program to count the highest occurring character & its occurrence count in an input string. Consider only alphabets. Ex:  for “hippopotamus” as input string, the maximally occurring character is ‘p’ & occurrence count is 3."
      ],
      "metadata": {
        "id": "bhtF1Zh4oIZN"
      }
    },
    {
      "cell_type": "code",
      "source": [
        "def count_char(input_string):      #defining function to count each character's occurrence in a string\n",
        "\n",
        "  lowercase_string = input_string.lower()    #convert all alphabets to lowercase to make comparison case-insensitive\n",
        "\n",
        "  char_count = {}  #dictionary to store count of each character\n",
        "\n",
        "\n",
        "#iterate through each character in lowercase string\n",
        "\n",
        "  for char in lowercase_string:\n",
        "    if char in char_count:\n",
        "\n",
        "        char_count[char] += 1    #increment a character's count if it is already present in dictionary\n",
        "\n",
        "    else:\n",
        "\n",
        "        char_count[char] = 1    #set count to 1 if character not present in dictionary\n",
        "\n",
        "  return char_count   # Return dictionary containing count of each character\n",
        "\n",
        "\n",
        "def main():\n",
        "  input_string = input(\"Enter a word : \")  #Obtain string from user\n",
        "\n",
        "  char_count = count_char(input_string)  #call count_char function to count occurrence of each character\n",
        "\n",
        "  for char, count in char_count.items():\n",
        "    print(f\"Character: {char}, Count: {count}\")\n",
        "\n",
        "\n",
        "#To print character with highest occurrence.\n",
        "\n",
        "  max_count = max(char_count.values())\n",
        "  highest_occurrences = []\n",
        "  for char, count in char_count.items():\n",
        "    if count == max_count:\n",
        "        highest_occurrences.append(char)\n",
        "\n",
        "\n",
        "  print(f\"The highest occurring alphabets are: {', '.join(highest_occurrences)} with occurrence count: {max_count}\")\n",
        "\n",
        "\n",
        "\n",
        "\n",
        "if __name__ == \"__main__\":\n",
        "  main()\n",
        "\n",
        "\n",
        "\n"
      ],
      "metadata": {
        "id": "q7ogldCqoVGh",
        "colab": {
          "base_uri": "https://localhost:8080/"
        },
        "outputId": "51776bb0-4243-41ca-e1fc-321c4b56c49d"
      },
      "execution_count": 19,
      "outputs": [
        {
          "output_type": "stream",
          "name": "stdout",
          "text": [
            "Enter a word : college\n",
            "Character: c, Count: 1\n",
            "Character: o, Count: 1\n",
            "Character: l, Count: 2\n",
            "Character: e, Count: 2\n",
            "Character: g, Count: 1\n",
            "The highest occurring alphabets are: l, e with occurrence count: 2\n"
          ]
        }
      ]
    }
  ]
}